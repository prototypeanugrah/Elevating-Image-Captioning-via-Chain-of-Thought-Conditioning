{
 "cells": [
  {
   "cell_type": "code",
   "execution_count": 14,
   "metadata": {},
   "outputs": [],
   "source": [
    "import pandas as pd\n",
    "from nltk.translate.bleu_score import sentence_bleu\n",
    "from nltk.translate.bleu_score import SmoothingFunction\n",
    "from nltk.translate.bleu_score import corpus_bleu"
   ]
  },
  {
   "cell_type": "code",
   "execution_count": 19,
   "metadata": {},
   "outputs": [
    {
     "data": {
      "text/html": [
       "<div>\n",
       "<style scoped>\n",
       "    .dataframe tbody tr th:only-of-type {\n",
       "        vertical-align: middle;\n",
       "    }\n",
       "\n",
       "    .dataframe tbody tr th {\n",
       "        vertical-align: top;\n",
       "    }\n",
       "\n",
       "    .dataframe thead th {\n",
       "        text-align: right;\n",
       "    }\n",
       "</style>\n",
       "<table border=\"1\" class=\"dataframe\">\n",
       "  <thead>\n",
       "    <tr style=\"text-align: right;\">\n",
       "      <th></th>\n",
       "      <th>image_url</th>\n",
       "      <th>caption_A</th>\n",
       "      <th>caption_B</th>\n",
       "    </tr>\n",
       "  </thead>\n",
       "  <tbody>\n",
       "    <tr>\n",
       "      <th>0</th>\n",
       "      <td>https://cs.stanford.edu/people/rak248/VG_100K_...</td>\n",
       "      <td>A cozy kitchen scene with a white refrigerator...</td>\n",
       "      <td>The image captures a cozy kitchen scene. Domin...</td>\n",
       "    </tr>\n",
       "    <tr>\n",
       "      <th>1</th>\n",
       "      <td>https://cs.stanford.edu/people/rak248/VG_100K_...</td>\n",
       "      <td>Elegant Living Room: A Symphony of Comfort and...</td>\n",
       "      <td>The image captures a warm and inviting living ...</td>\n",
       "    </tr>\n",
       "    <tr>\n",
       "      <th>2</th>\n",
       "      <td>https://cs.stanford.edu/people/rak248/VG_100K_...</td>\n",
       "      <td>The image captures a moment on a highway, wher...</td>\n",
       "      <td>The image captures a serene moment on a highwa...</td>\n",
       "    </tr>\n",
       "    <tr>\n",
       "      <th>3</th>\n",
       "      <td>https://cs.stanford.edu/people/rak248/VG_100K_...</td>\n",
       "      <td>The image captures a vibrant city street, bath...</td>\n",
       "      <td>The image captures a vibrant city street, bath...</td>\n",
       "    </tr>\n",
       "    <tr>\n",
       "      <th>4</th>\n",
       "      <td>https://cs.stanford.edu/people/rak248/VG_100K_...</td>\n",
       "      <td>A serene suburban home nestled amidst lush gre...</td>\n",
       "      <td>The image depicts a serene suburban scene. The...</td>\n",
       "    </tr>\n",
       "  </tbody>\n",
       "</table>\n",
       "</div>"
      ],
      "text/plain": [
       "                                           image_url  \\\n",
       "0  https://cs.stanford.edu/people/rak248/VG_100K_...   \n",
       "1  https://cs.stanford.edu/people/rak248/VG_100K_...   \n",
       "2  https://cs.stanford.edu/people/rak248/VG_100K_...   \n",
       "3  https://cs.stanford.edu/people/rak248/VG_100K_...   \n",
       "4  https://cs.stanford.edu/people/rak248/VG_100K_...   \n",
       "\n",
       "                                           caption_A  \\\n",
       "0  A cozy kitchen scene with a white refrigerator...   \n",
       "1  Elegant Living Room: A Symphony of Comfort and...   \n",
       "2  The image captures a moment on a highway, wher...   \n",
       "3  The image captures a vibrant city street, bath...   \n",
       "4  A serene suburban home nestled amidst lush gre...   \n",
       "\n",
       "                                           caption_B  \n",
       "0  The image captures a cozy kitchen scene. Domin...  \n",
       "1  The image captures a warm and inviting living ...  \n",
       "2  The image captures a serene moment on a highwa...  \n",
       "3  The image captures a vibrant city street, bath...  \n",
       "4  The image depicts a serene suburban scene. The...  "
      ]
     },
     "execution_count": 19,
     "metadata": {},
     "output_type": "execute_result"
    }
   ],
   "source": [
    "surveys = pd.read_csv('results/post_survey.csv')\n",
    "all_generated_captions = pd.read_csv('results/generated_captions.csv')\n",
    "surveys = surveys[['image_url', 'caption_A', 'caption_B']]\n",
    "all_generated_captions = all_generated_captions[['image_url', 'caption_A', 'caption_B']]\n",
    "surveys.head()"
   ]
  },
  {
   "cell_type": "code",
   "execution_count": 16,
   "metadata": {},
   "outputs": [
    {
     "data": {
      "text/html": [
       "<div>\n",
       "<style scoped>\n",
       "    .dataframe tbody tr th:only-of-type {\n",
       "        vertical-align: middle;\n",
       "    }\n",
       "\n",
       "    .dataframe tbody tr th {\n",
       "        vertical-align: top;\n",
       "    }\n",
       "\n",
       "    .dataframe thead th {\n",
       "        text-align: right;\n",
       "    }\n",
       "</style>\n",
       "<table border=\"1\" class=\"dataframe\">\n",
       "  <thead>\n",
       "    <tr style=\"text-align: right;\">\n",
       "      <th></th>\n",
       "      <th>image_url</th>\n",
       "      <th>caption_A</th>\n",
       "      <th>caption_B</th>\n",
       "      <th>bleu_score</th>\n",
       "    </tr>\n",
       "  </thead>\n",
       "  <tbody>\n",
       "    <tr>\n",
       "      <th>0</th>\n",
       "      <td>https://cs.stanford.edu/people/rak248/VG_100K_...</td>\n",
       "      <td>A cozy kitchen scene with a white refrigerator...</td>\n",
       "      <td>The image captures a cozy kitchen scene. Domin...</td>\n",
       "      <td>0.021477</td>\n",
       "    </tr>\n",
       "    <tr>\n",
       "      <th>1</th>\n",
       "      <td>https://cs.stanford.edu/people/rak248/VG_100K_...</td>\n",
       "      <td>Elegant Living Room: A Symphony of Comfort and...</td>\n",
       "      <td>The image captures a warm and inviting living ...</td>\n",
       "      <td>0.005012</td>\n",
       "    </tr>\n",
       "    <tr>\n",
       "      <th>2</th>\n",
       "      <td>https://cs.stanford.edu/people/rak248/VG_100K_...</td>\n",
       "      <td>The image captures a moment on a highway, wher...</td>\n",
       "      <td>The image captures a serene moment on a highwa...</td>\n",
       "      <td>0.364244</td>\n",
       "    </tr>\n",
       "    <tr>\n",
       "      <th>3</th>\n",
       "      <td>https://cs.stanford.edu/people/rak248/VG_100K_...</td>\n",
       "      <td>The image captures a vibrant city street, bath...</td>\n",
       "      <td>The image captures a vibrant city street, bath...</td>\n",
       "      <td>1.000000</td>\n",
       "    </tr>\n",
       "    <tr>\n",
       "      <th>4</th>\n",
       "      <td>https://cs.stanford.edu/people/rak248/VG_100K_...</td>\n",
       "      <td>A serene suburban home nestled amidst lush gre...</td>\n",
       "      <td>The image depicts a serene suburban scene. The...</td>\n",
       "      <td>0.019231</td>\n",
       "    </tr>\n",
       "  </tbody>\n",
       "</table>\n",
       "</div>"
      ],
      "text/plain": [
       "                                           image_url  \\\n",
       "0  https://cs.stanford.edu/people/rak248/VG_100K_...   \n",
       "1  https://cs.stanford.edu/people/rak248/VG_100K_...   \n",
       "2  https://cs.stanford.edu/people/rak248/VG_100K_...   \n",
       "3  https://cs.stanford.edu/people/rak248/VG_100K_...   \n",
       "4  https://cs.stanford.edu/people/rak248/VG_100K_...   \n",
       "\n",
       "                                           caption_A  \\\n",
       "0  A cozy kitchen scene with a white refrigerator...   \n",
       "1  Elegant Living Room: A Symphony of Comfort and...   \n",
       "2  The image captures a moment on a highway, wher...   \n",
       "3  The image captures a vibrant city street, bath...   \n",
       "4  A serene suburban home nestled amidst lush gre...   \n",
       "\n",
       "                                           caption_B  bleu_score  \n",
       "0  The image captures a cozy kitchen scene. Domin...    0.021477  \n",
       "1  The image captures a warm and inviting living ...    0.005012  \n",
       "2  The image captures a serene moment on a highwa...    0.364244  \n",
       "3  The image captures a vibrant city street, bath...    1.000000  \n",
       "4  The image depicts a serene suburban scene. The...    0.019231  "
      ]
     },
     "execution_count": 16,
     "metadata": {},
     "output_type": "execute_result"
    }
   ],
   "source": [
    "# Calculate BLEU score for each caption\n",
    "def bleu_score(row):\n",
    "    reference = row['caption_A'].split()\n",
    "    candidate = row['caption_B'].split()\n",
    "    return sentence_bleu([reference], candidate, smoothing_function=SmoothingFunction().method1)\n",
    "\n",
    "surveys['bleu_score'] = surveys.apply(bleu_score, axis=1)\n",
    "surveys.head()"
   ]
  },
  {
   "cell_type": "code",
   "execution_count": 18,
   "metadata": {},
   "outputs": [
    {
     "name": "stdout",
     "output_type": "stream",
     "text": [
      "Mean BLEU score: 0.34317006626350627\n"
     ]
    }
   ],
   "source": [
    "# Mean BLEU score\n",
    "mean_bleu_score = surveys['bleu_score'].mean()\n",
    "print('Mean BLEU score:', mean_bleu_score)"
   ]
  },
  {
   "cell_type": "code",
   "execution_count": 20,
   "metadata": {},
   "outputs": [
    {
     "name": "stdout",
     "output_type": "stream",
     "text": [
      "Mean BLEU score for all generated captions: 0.3235235302504601\n"
     ]
    }
   ],
   "source": [
    "all_generated_captions['bleu_score'] = all_generated_captions.apply(bleu_score, axis=1)\n",
    "mean_bleu_score = all_generated_captions['bleu_score'].mean()\n",
    "print('Mean BLEU score for all generated captions:', mean_bleu_score)"
   ]
  },
  {
   "cell_type": "code",
   "execution_count": null,
   "metadata": {},
   "outputs": [],
   "source": []
  }
 ],
 "metadata": {
  "kernelspec": {
   "display_name": "transformers",
   "language": "python",
   "name": "python3"
  },
  "language_info": {
   "codemirror_mode": {
    "name": "ipython",
    "version": 3
   },
   "file_extension": ".py",
   "mimetype": "text/x-python",
   "name": "python",
   "nbconvert_exporter": "python",
   "pygments_lexer": "ipython3",
   "version": "3.11.8"
  }
 },
 "nbformat": 4,
 "nbformat_minor": 2
}
